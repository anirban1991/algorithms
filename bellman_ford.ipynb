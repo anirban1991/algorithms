{
 "cells": [
  {
   "cell_type": "code",
   "execution_count": 58,
   "metadata": {},
   "outputs": [],
   "source": [
    "class Graph:\n",
    "    def __init__(self, vertex):\n",
    "        self.v = vertex\n",
    "        self.parent = [0 for i in range(self.v)]\n",
    "        self.adj_list = [set() for i in range(self.v)]\n",
    "        self.edge_set = []\n",
    "        self.traversal_cost = [float('inf') for i in range(self.v)]\n",
    "        self.edge_count = 0\n",
    "\n",
    "    def build_digraph(self, start, end, weight):\n",
    "        self.adj_list[start].add((end, weight))\n",
    "        self.edge_set.append((start, end, weight))\n",
    "\n",
    "    def print_graph(self):\n",
    "        print(self.adj_list)\n",
    "\n",
    "    def relax_edges(self, edge_list):\n",
    "        start = edge_list[0]\n",
    "        end = edge_list[1]\n",
    "        weight = edge_list[2]\n",
    "        if self.traversal_cost[start] + weight < self.traversal_cost[end]:\n",
    "            self.traversal_cost[end] = self.traversal_cost[start] + weight\n",
    "            self.parent[end] = start\n",
    "        \n",
    "\n",
    "\n",
    "    def bellman_ford_shortest_path(self, source):\n",
    "        i = 0\n",
    "        self.traversal_cost[source] = 0\n",
    "        self.parent[source] = source\n",
    "        for i in range(len(self.adj_list)):\n",
    "            j = 0\n",
    "            for j in range(len(self.edge_set)):\n",
    "                self.relax_edges(self.edge_set[j])\n",
    "\n",
    "        local_path = self.traversal_cost.copy()\n",
    "        k = 0 \n",
    "        for k in range(len(self.edge_set)):\n",
    "            self.relax_edges(self.edge_set[k])      \n",
    "\n",
    "        if local_path != self.traversal_cost:\n",
    "            print(\"graph has a negative cycle\")\n",
    "        else:\n",
    "            print(self.traversal_cost)\n",
    "            print(self.parent)\n",
    "                \n",
    "\n"
   ]
  },
  {
   "cell_type": "code",
   "execution_count": 63,
   "metadata": {},
   "outputs": [],
   "source": [
    "g = Graph(4)\n",
    "g.build_digraph(1,2,0.5)\n",
    "g.build_digraph(2,3,1)\n",
    "g.build_digraph(0,3,1.5)\n",
    "g.build_digraph(0,1,2)\n",
    "g.build_digraph(3,1,-2.5)"
   ]
  },
  {
   "cell_type": "code",
   "execution_count": 64,
   "metadata": {},
   "outputs": [
    {
     "name": "stdout",
     "output_type": "stream",
     "text": [
      "[{(3, 1.5), (1, 2)}, {(2, 0.5)}, {(3, 1)}, {(1, -2.5)}]\n"
     ]
    }
   ],
   "source": [
    "g.print_graph()"
   ]
  },
  {
   "cell_type": "code",
   "execution_count": 65,
   "metadata": {},
   "outputs": [
    {
     "data": {
      "text/plain": [
       "[(1, 2, 0.5), (2, 3, 1), (0, 3, 1.5), (0, 1, 2), (3, 1, -2.5)]"
      ]
     },
     "execution_count": 65,
     "metadata": {},
     "output_type": "execute_result"
    }
   ],
   "source": [
    "g.edge_set"
   ]
  },
  {
   "cell_type": "code",
   "execution_count": 66,
   "metadata": {},
   "outputs": [
    {
     "name": "stdout",
     "output_type": "stream",
     "text": [
      "graph has a negative cycle\n"
     ]
    }
   ],
   "source": [
    "g.bellman_ford_shortest_path(0)"
   ]
  },
  {
   "cell_type": "code",
   "execution_count": null,
   "metadata": {},
   "outputs": [],
   "source": []
  }
 ],
 "metadata": {
  "kernelspec": {
   "display_name": "algorithms",
   "language": "python",
   "name": "python3"
  },
  "language_info": {
   "codemirror_mode": {
    "name": "ipython",
    "version": 3
   },
   "file_extension": ".py",
   "mimetype": "text/x-python",
   "name": "python",
   "nbconvert_exporter": "python",
   "pygments_lexer": "ipython3",
   "version": "3.12.3"
  }
 },
 "nbformat": 4,
 "nbformat_minor": 2
}
