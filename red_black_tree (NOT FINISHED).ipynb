{
 "cells": [
  {
   "cell_type": "code",
   "execution_count": 118,
   "id": "bcd3df2d",
   "metadata": {},
   "outputs": [],
   "source": [
    "class red_black_tree:\n",
    "    def __init__(self, val=None):\n",
    "        self.value = val\n",
    "        \n",
    "        # If the node has a value, \n",
    "        #create left and right children nodes\n",
    "        if self.value:\n",
    "            self.left = red_black_tree()\n",
    "            self.right = red_black_tree()\n",
    "        else:\n",
    "          \n",
    "            # If the node has no value, \n",
    "            #set left and right children to None\n",
    "            self.left = None\n",
    "            self.right = None\n",
    "        \n",
    "    def insert_bst(self,elem):\n",
    "        if self.value == None:\n",
    "            self.value = elem\n",
    "            self.left = red_black_tree()\n",
    "            self.right = red_black_tree()\n",
    "            return\n",
    "        else:\n",
    "            if self.value > elem:\n",
    "                print(\"adding on left of \",self.value)\n",
    "                return self.left.insert_bst(elem)\n",
    "                \n",
    "            else :\n",
    "                print(\"adding on right of \",self.value)\n",
    "                return self.right.insert_bst(elem)\n",
    "                \n",
    "                \n",
    "                \n",
    "    def search_bst(self, search_key):\n",
    "        if self.value == search_key:\n",
    "            return (self.value, \"Found\")\n",
    "        if self.value == None:\n",
    "            return (self.value,\"Not Found\")\n",
    "        \n",
    "        else:\n",
    "            if self.value > search_key:\n",
    "                print(\"searching on left of \",self.value)\n",
    "                return self.left.search_bst(search_key)\n",
    "                \n",
    "            else :\n",
    "                print(\"searching on right of \",self.value)\n",
    "                return self.right.search_bst(search_key)\n",
    "            \n",
    "    def find_successor(self):\n",
    "        while self.left.value != None:\n",
    "            self = self.left\n",
    "        return self\n",
    "        \n",
    "    def delete_bst(self, delete_key):\n",
    "        if self.value == delete_key:\n",
    "            print(self.value, self.left, self.right)\n",
    "            if self.left.value == None and self.right.value == None:\n",
    "                print(\"hi1\")\n",
    "                self.value = None\n",
    "                return (\"Deleted Successfully\")\n",
    "            if self.left.value != None and self.right.value == None:\n",
    "                print(\"hi2\")\n",
    "                self.value = self.left.value\n",
    "                self.left = self.left.left\n",
    "                self.right = self.left.right\n",
    "                return (\"Deleted Successfully\")\n",
    "            if self.left.value == None and self.right.value != None:\n",
    "                print(\"hi3\")\n",
    "                self.value = self.right.value\n",
    "                self.left = self.right.left\n",
    "                self.right = self.right.right\n",
    "                return (\"Deleted Successfully\")\n",
    "            else:\n",
    "                print(\"hi4\")\n",
    "                ref = self.right.find_successor()\n",
    "                temp = ref.value\n",
    "                ref.delete_bst(temp)\n",
    "                self.value = temp\n",
    "                return (\"Deleted Successfully\")\n",
    "            \n",
    "        \n",
    "                \n",
    "        \n",
    "        if self.value == None:\n",
    "            return (self.value,\"Not Found\")\n",
    "        \n",
    "        else:\n",
    "            if self.value > delete_key:\n",
    "                print(\"searching on left of \",self.value)\n",
    "                return self.left.delete_bst(delete_key)\n",
    "                \n",
    "            else :\n",
    "                print(\"searching on right of \",self.value)\n",
    "                return self.right.delete_bst(delete_key)\n",
    "            \n",
    "    def inorder_travesal(self):\n",
    "        if self.value == None:\n",
    "            return\n",
    "        else:\n",
    "            self.left.inorder_travesal()\n",
    "            print(self.value)\n",
    "            self.right.inorder_travesal()\n",
    "            \n",
    "    def preorder_travesal(self):\n",
    "        if self.value == None:\n",
    "            return\n",
    "        else:\n",
    "            print(self.value)\n",
    "            self.left.preorder_travesal()\n",
    "            self.right.preorder_travesal()\n",
    "            \n",
    "    def postorder_travesal(self):\n",
    "        if self.value == None:\n",
    "            return\n",
    "        else:\n",
    "            self.left.postorder_travesal()\n",
    "            self.right.postorder_travesal()\n",
    "            print(self.value)\n",
    "                \n",
    "            \n",
    "                \n",
    "                \n",
    "\n",
    "            "
   ]
  },
  {
   "cell_type": "code",
   "execution_count": 119,
   "id": "0c02f43d",
   "metadata": {},
   "outputs": [
    {
     "name": "stdout",
     "output_type": "stream",
     "text": [
      "adding on left of  50\n",
      "adding on right of  50\n",
      "adding on left of  50\n",
      "adding on right of  25\n",
      "adding on right of  50\n",
      "adding on right of  55\n",
      "adding on right of  50\n",
      "adding on left of  55\n"
     ]
    }
   ],
   "source": [
    "b = bst(50)\n",
    "b.insert_bst(25)\n",
    "b.insert_bst(55)\n",
    "b.insert_bst(31)\n",
    "b.insert_bst(62)\n",
    "b.insert_bst(54)"
   ]
  },
  {
   "cell_type": "code",
   "execution_count": 120,
   "id": "7cf9613a",
   "metadata": {},
   "outputs": [
    {
     "name": "stdout",
     "output_type": "stream",
     "text": [
      "searching on right of  50\n",
      "Found\n"
     ]
    }
   ],
   "source": [
    "loc, output= b.search_bst(55)\n",
    "print(output)"
   ]
  },
  {
   "cell_type": "code",
   "execution_count": 121,
   "id": "3ac9b77c",
   "metadata": {},
   "outputs": [
    {
     "name": "stdout",
     "output_type": "stream",
     "text": [
      "25\n",
      "31\n",
      "50\n",
      "54\n",
      "55\n",
      "62\n"
     ]
    }
   ],
   "source": [
    "b.inorder_travesal()"
   ]
  },
  {
   "cell_type": "code",
   "execution_count": 122,
   "id": "cf3cc622",
   "metadata": {},
   "outputs": [
    {
     "name": "stdout",
     "output_type": "stream",
     "text": [
      "50\n",
      "25\n",
      "31\n",
      "55\n",
      "54\n",
      "62\n"
     ]
    }
   ],
   "source": [
    "b.preorder_travesal()"
   ]
  },
  {
   "cell_type": "code",
   "execution_count": 123,
   "id": "9f803cb9",
   "metadata": {},
   "outputs": [
    {
     "name": "stdout",
     "output_type": "stream",
     "text": [
      "31\n",
      "25\n",
      "54\n",
      "62\n",
      "55\n",
      "50\n"
     ]
    }
   ],
   "source": [
    "b.postorder_travesal()"
   ]
  },
  {
   "cell_type": "code",
   "execution_count": 111,
   "id": "90418257",
   "metadata": {},
   "outputs": [
    {
     "name": "stdout",
     "output_type": "stream",
     "text": [
      "50 <__main__.bst object at 0x7faae013a5e0> <__main__.bst object at 0x7faae013a250>\n",
      "hi4\n",
      "54 <__main__.bst object at 0x7faaf07894c0> <__main__.bst object at 0x7faaf0789130>\n",
      "hi1\n"
     ]
    },
    {
     "data": {
      "text/plain": [
       "'Deleted Successfully'"
      ]
     },
     "execution_count": 111,
     "metadata": {},
     "output_type": "execute_result"
    }
   ],
   "source": [
    "b.delete_bst(50)"
   ]
  },
  {
   "cell_type": "code",
   "execution_count": 112,
   "id": "32184219",
   "metadata": {},
   "outputs": [
    {
     "name": "stdout",
     "output_type": "stream",
     "text": [
      "25\n",
      "31\n",
      "54\n",
      "55\n",
      "62\n"
     ]
    }
   ],
   "source": [
    "b.inorder_travesal()"
   ]
  },
  {
   "cell_type": "code",
   "execution_count": null,
   "id": "adbc25a5",
   "metadata": {},
   "outputs": [],
   "source": []
  }
 ],
 "metadata": {
  "kernelspec": {
   "display_name": "Python 3 (ipykernel)",
   "language": "python",
   "name": "python3"
  },
  "language_info": {
   "codemirror_mode": {
    "name": "ipython",
    "version": 3
   },
   "file_extension": ".py",
   "mimetype": "text/x-python",
   "name": "python",
   "nbconvert_exporter": "python",
   "pygments_lexer": "ipython3",
   "version": "3.9.12"
  }
 },
 "nbformat": 4,
 "nbformat_minor": 5
}
