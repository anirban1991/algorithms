{
 "cells": [
  {
   "cell_type": "code",
   "execution_count": 14,
   "metadata": {},
   "outputs": [],
   "source": [
    "def max_subarray(arr, left, right):\n",
    "    print(left, right)\n",
    "    if left == right:\n",
    "        return 0\n",
    "    if right - left == 1:\n",
    "        return max(0, arr[right]- arr[left])\n",
    "    mid = (left + right) //2\n",
    "    print(mid)\n",
    "    m1 = max_subarray(arr, left , mid)\n",
    "    m2 = max_subarray(arr, mid+1, right)\n",
    "    min_ele_left = min_element(arr, left, mid)\n",
    "    max_ele_right = max_element(arr, mid +1, right)\n",
    "    print(m1,m2,(max_ele_right - min_ele_left))\n",
    "\n",
    "    return max(m1,m2,(max_ele_right - min_ele_left))\n",
    "\n",
    "\n",
    "def min_element(arr, start, end):\n",
    "    return min(arr[start:end+1])\n",
    "def max_element(arr, start, end):\n",
    "    return max(arr[start:end+1])"
   ]
  },
  {
   "cell_type": "code",
   "execution_count": 15,
   "metadata": {},
   "outputs": [
    {
     "name": "stdout",
     "output_type": "stream",
     "text": [
      "0 7\n",
      "3\n",
      "0 3\n",
      "1\n",
      "0 1\n",
      "2 3\n",
      "0 8 7\n",
      "4 7\n",
      "5\n",
      "4 5\n",
      "6 7\n",
      "0 7 -1\n",
      "8 7 15\n",
      "15\n"
     ]
    }
   ],
   "source": [
    "a = [2,1,0,8,15,7,-1,6]\n",
    "b = max_subarray(a,0,7)\n",
    "print(b)"
   ]
  },
  {
   "cell_type": "code",
   "execution_count": null,
   "metadata": {},
   "outputs": [],
   "source": []
  }
 ],
 "metadata": {
  "kernelspec": {
   "display_name": "algorithms",
   "language": "python",
   "name": "python3"
  },
  "language_info": {
   "codemirror_mode": {
    "name": "ipython",
    "version": 3
   },
   "file_extension": ".py",
   "mimetype": "text/x-python",
   "name": "python",
   "nbconvert_exporter": "python",
   "pygments_lexer": "ipython3",
   "version": "3.12.3"
  }
 },
 "nbformat": 4,
 "nbformat_minor": 2
}
