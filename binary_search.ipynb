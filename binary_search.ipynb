{
 "cells": [
  {
   "cell_type": "code",
   "execution_count": 1,
   "id": "5ad61dfd",
   "metadata": {},
   "outputs": [],
   "source": [
    "input_array = [1,6,14,23,32,67,87,98]"
   ]
  },
  {
   "cell_type": "code",
   "execution_count": 22,
   "id": "9ecc0b09",
   "metadata": {},
   "outputs": [],
   "source": [
    "def binary_search (input_arr,elem):\n",
    "    left = 0\n",
    "    right = len(input_arr)-1\n",
    "    \n",
    "    while left <= right:\n",
    "        mid = (left + right)//2\n",
    "        if input_arr[mid]==elem:\n",
    "            return mid\n",
    "        elif input_arr[mid]>elem:\n",
    "            right = mid-1\n",
    "        else:\n",
    "            left = mid+1\n",
    "            \n",
    "    return -1\n",
    "            \n",
    "            \n",
    "        "
   ]
  },
  {
   "cell_type": "code",
   "execution_count": 23,
   "id": "889b3d05",
   "metadata": {},
   "outputs": [
    {
     "name": "stdout",
     "output_type": "stream",
     "text": [
      "The number exists in array at position 4\n"
     ]
    }
   ],
   "source": [
    "index = binary_search(input_array,32)\n",
    "if index != -1:\n",
    "    print(\"The number exists in array at position \"+str(index))\n",
    "else:\n",
    "    print(\"It does not exist in array\")"
   ]
  },
  {
   "cell_type": "code",
   "execution_count": null,
   "id": "280a35a4",
   "metadata": {},
   "outputs": [],
   "source": []
  }
 ],
 "metadata": {
  "kernelspec": {
   "display_name": "Python 3 (ipykernel)",
   "language": "python",
   "name": "python3"
  },
  "language_info": {
   "codemirror_mode": {
    "name": "ipython",
    "version": 3
   },
   "file_extension": ".py",
   "mimetype": "text/x-python",
   "name": "python",
   "nbconvert_exporter": "python",
   "pygments_lexer": "ipython3",
   "version": "3.9.12"
  }
 },
 "nbformat": 4,
 "nbformat_minor": 5
}
