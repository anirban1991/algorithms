{
 "cells": [
  {
   "cell_type": "code",
   "execution_count": 2,
   "id": "ac495a66-40c8-46e2-9a33-f1e493d83b39",
   "metadata": {},
   "outputs": [
    {
     "data": {
      "text/plain": [
       "{4, 5, 8, 9}"
      ]
     },
     "execution_count": 2,
     "metadata": {},
     "output_type": "execute_result"
    }
   ],
   "source": [
    "set ([9,8,4,5])"
   ]
  },
  {
   "cell_type": "code",
   "execution_count": 220,
   "id": "51764c01-2e46-4468-85b9-69299800c8ca",
   "metadata": {},
   "outputs": [],
   "source": [
    "class Graph:\n",
    "    def __init__(self, vertex):\n",
    "        self.v = vertex+1\n",
    "        self.start_time = [0 for i in range(self.v)]\n",
    "        self.finish_time = [0 for i in range(self.v)]\n",
    "        self.time = 0\n",
    "        self.traversal_list = []\n",
    "        self.traversal_list_transpose = []\n",
    "        self.adj_list = [set() for i in range(self.v)]\n",
    "        self.adj_list_transpose = [set() for i in range(self.v)] \n",
    "        self.mscc = []\n",
    "\n",
    "    def build_digraph(self, start, end):\n",
    "        self.adj_list[start].add(end)\n",
    "\n",
    "    def print_graph(self):\n",
    "        print(self.adj_list)\n",
    "\n",
    "    def dfs (self, start):\n",
    "        if start in self.traversal_list:\n",
    "            return (self.traversal_list, self.start_time, self.finish_time)\n",
    "        else:\n",
    "            self.time= self.time+1\n",
    "            self.start_time[start] = self.time\n",
    "            self.traversal_list.append(start)\n",
    "            i = 0\n",
    "            j = 0\n",
    "            for i in range(len(self.adj_list[start])):\n",
    "                # print(list(self.adj_list[start])[j])\n",
    "                k = list(self.adj_list[start])[j]\n",
    "                self.dfs(k)\n",
    "                j = j+1\n",
    "            self.time= self.time+1\n",
    "            self.finish_time[start]= self.time\n",
    "            return (self.traversal_list, self.start_time, self.finish_time)\n",
    "\n",
    "    def transpose_graph(self):\n",
    "        i = 0\n",
    "        for i in range(len(self.adj_list)):\n",
    "            neighbours = list(self.adj_list)[i]\n",
    "            j = 0\n",
    "            for j in range(len(neighbours)):\n",
    "                start = list(neighbours)[j]\n",
    "                end = i\n",
    "                self.adj_list_transpose[start].add(end)\n",
    "        print(self.adj_list_transpose)\n",
    "        return\n",
    "\n",
    "    def dfs_using_transpose(self,start):\n",
    "        \n",
    "        if start in self.traversal_list_transpose:\n",
    "            return (self.traversal_list_transpose,self.mscc)\n",
    "        else:\n",
    "            self.traversal_list_transpose.append(start)\n",
    "            self.mscc.append(start)\n",
    "            i = 0\n",
    "            j = 0\n",
    "            for i in range(len(self.adj_list_transpose[start])):\n",
    "                k = list(self.adj_list_transpose[start])[j]\n",
    "                self.dfs_using_transpose(k)\n",
    "                j = j+1\n",
    "            return (self.traversal_list_transpose,self.mscc)\n",
    "\n",
    "    def find_mscc(self):\n",
    "        \n",
    "        traverse_list,start_time, finish_time =  self.dfs(1)\n",
    "        for i in range(len(finish_time)):\n",
    "            self.mscc=[]\n",
    "            max_index = finish_time.index(max(finish_time))\n",
    "            _, mscc = self.dfs_using_transpose(max_index)\n",
    "            finish_time[max_index] = -1\n",
    "            if len(mscc) > 0:\n",
    "                print(mscc)\n",
    "        \n",
    "                \n",
    "            \n",
    "\n",
    "        "
   ]
  },
  {
   "cell_type": "code",
   "execution_count": 221,
   "id": "47b3fd7e-3fe6-413f-8468-40f87287d710",
   "metadata": {},
   "outputs": [],
   "source": [
    "g = Graph(9)\n",
    "g.build_digraph(1,2)\n",
    "g.build_digraph(2,3)\n",
    "g.build_digraph(3,4)\n",
    "g.build_digraph(4,5)\n",
    "g.build_digraph(5,2)\n",
    "g.build_digraph(2,6)\n",
    "g.build_digraph(6,8)\n",
    "g.build_digraph(8,7)\n",
    "g.build_digraph(7,6)\n",
    "g.build_digraph(7,9)\n",
    "g.build_digraph(9,7)\n",
    "g.build_digraph(8,9)"
   ]
  },
  {
   "cell_type": "code",
   "execution_count": 222,
   "id": "ea8ed1c1-fc49-41ed-8c0e-06287d949006",
   "metadata": {},
   "outputs": [
    {
     "name": "stdout",
     "output_type": "stream",
     "text": [
      "[set(), {2}, {3, 6}, {4}, {5}, {2}, {8}, {9, 6}, {9, 7}, {7}]\n"
     ]
    }
   ],
   "source": [
    "g.print_graph()"
   ]
  },
  {
   "cell_type": "code",
   "execution_count": 223,
   "id": "ec7fc84e-3196-4fb2-ba62-7b019ac35f08",
   "metadata": {},
   "outputs": [
    {
     "name": "stdout",
     "output_type": "stream",
     "text": [
      "[set(), set(), {1, 5}, {2}, {3}, {4}, {2, 7}, {8, 9}, {6}, {8, 7}]\n"
     ]
    }
   ],
   "source": [
    "g.transpose_graph()"
   ]
  },
  {
   "cell_type": "code",
   "execution_count": 224,
   "id": "cf0c02ff-7ddc-4077-b6cf-72cf7af165aa",
   "metadata": {},
   "outputs": [],
   "source": [
    "# g.find_mscc()"
   ]
  },
  {
   "cell_type": "code",
   "execution_count": 225,
   "id": "b95dc8b6-a8da-4fd7-a500-17f51f379b60",
   "metadata": {},
   "outputs": [],
   "source": [
    "a,b,c = g.dfs(1)"
   ]
  },
  {
   "cell_type": "code",
   "execution_count": 226,
   "id": "f6211c85-d008-4c55-904f-aab209267188",
   "metadata": {},
   "outputs": [
    {
     "name": "stdout",
     "output_type": "stream",
     "text": [
      "[1, 2, 3, 4, 5, 6, 8, 9, 7]\n"
     ]
    }
   ],
   "source": [
    "print (a)"
   ]
  },
  {
   "cell_type": "code",
   "execution_count": 227,
   "id": "f7a483ec-62dc-44d7-a96b-bf9c5b61ced8",
   "metadata": {},
   "outputs": [
    {
     "name": "stdout",
     "output_type": "stream",
     "text": [
      "[0, 1, 2, 3, 4, 5, 9, 12, 10, 11] [0, 18, 17, 8, 7, 6, 16, 13, 15, 14]\n"
     ]
    }
   ],
   "source": [
    "print (b,c)"
   ]
  },
  {
   "cell_type": "code",
   "execution_count": null,
   "id": "438852fb-8233-4aa5-ac17-164b8653de73",
   "metadata": {},
   "outputs": [],
   "source": []
  }
 ],
 "metadata": {
  "kernelspec": {
   "display_name": "Python 3 (ipykernel)",
   "language": "python",
   "name": "python3"
  },
  "language_info": {
   "codemirror_mode": {
    "name": "ipython",
    "version": 3
   },
   "file_extension": ".py",
   "mimetype": "text/x-python",
   "name": "python",
   "nbconvert_exporter": "python",
   "pygments_lexer": "ipython3",
   "version": "3.12.3"
  }
 },
 "nbformat": 4,
 "nbformat_minor": 5
}
