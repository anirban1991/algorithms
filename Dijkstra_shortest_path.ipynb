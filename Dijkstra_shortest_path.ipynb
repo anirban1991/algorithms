{
 "cells": [
  {
   "cell_type": "code",
   "execution_count": 6,
   "metadata": {},
   "outputs": [],
   "source": [
    "class Graph:\n",
    "    def __init__(self, vertex):\n",
    "        self.v = vertex\n",
    "        self.parent = [0 for i in range(self.v)]\n",
    "        self.adj_list = [set() for i in range(self.v)]\n",
    "        # self.edge_visited = [False for i in range(self.v)]\n",
    "        self.traversal_cost = [[float('inf'),False] for i in range(self.v)]\n",
    "\n",
    "    def build_digraph(self, start, end, weight):\n",
    "        self.adj_list[start].add((end, weight))\n",
    "\n",
    "    def print_graph(self):\n",
    "        print(self.adj_list)\n",
    "\n",
    "    def relax_edges(self, start):\n",
    "        edge_list = self.adj_list[start]\n",
    "        # print(edge_list,start)\n",
    "        i= 0\n",
    "        for i in range(len(list(edge_list))):\n",
    "            start_d = self.traversal_cost[start][0]\n",
    "            weight = list(edge_list)[i][1]\n",
    "            end = list(edge_list)[i][0]\n",
    "            end_d = self.traversal_cost[end][0]\n",
    "            # print(start_d,weight,end,end_d)\n",
    "\n",
    "            if start_d + weight < end_d:\n",
    "                self.traversal_cost[end][0] = self.traversal_cost[start][0] + weight\n",
    "                self.parent[end] = start\n",
    "        \n",
    "    def find_min(self, lst):\n",
    "        # print(lst)\n",
    "        min_value = lst.index(min(item for item in lst if item[1]==False))\n",
    "        return min_value\n",
    "        \n",
    "\n",
    "    def dijkstra_shortest_path(self, source):\n",
    "        i = 0\n",
    "        self.traversal_cost[source][0] = 0\n",
    "        self.parent[source] = None\n",
    "        for i in range(len(self.adj_list)):\n",
    "            min_value_index = self.find_min(self.traversal_cost)\n",
    "            self.relax_edges(min_value_index)\n",
    "            self.traversal_cost[min_value_index][1] = True\n",
    "        print(self.traversal_cost)\n",
    "        print(self.parent)"
   ]
  },
  {
   "cell_type": "code",
   "execution_count": 58,
   "metadata": {},
   "outputs": [],
   "source": [
    "g = Graph(4)\n",
    "g.build_digraph(1,2,0.5)\n",
    "g.build_digraph(2,3,1)\n",
    "g.build_digraph(0,3,1.5)\n",
    "g.build_digraph(0,1,2)\n",
    "g.build_digraph(3,1,2.5)"
   ]
  },
  {
   "cell_type": "code",
   "execution_count": 59,
   "metadata": {},
   "outputs": [
    {
     "name": "stdout",
     "output_type": "stream",
     "text": [
      "[{(3, 1.5), (1, 2)}, {(2, 0.5)}, {(3, 1)}, {(1, 2.5)}]\n"
     ]
    }
   ],
   "source": [
    "g.print_graph()"
   ]
  },
  {
   "cell_type": "code",
   "execution_count": 60,
   "metadata": {},
   "outputs": [
    {
     "name": "stdout",
     "output_type": "stream",
     "text": [
      "[[0, False], [inf, False], [inf, False], [inf, False]]\n",
      "{(3, 1.5), (1, 2)} 0\n",
      "0 1.5 3 inf\n",
      "0 2 1 inf\n",
      "[[0, True], [2, False], [inf, False], [1.5, False]]\n",
      "{(1, 2.5)} 3\n",
      "1.5 2.5 1 2\n",
      "[[0, True], [2, False], [inf, False], [1.5, True]]\n",
      "{(2, 0.5)} 1\n",
      "2 0.5 2 inf\n",
      "[[0, True], [2, True], [2.5, False], [1.5, True]]\n",
      "{(3, 1)} 2\n",
      "2.5 1 3 1.5\n",
      "[[0, True], [2, True], [2.5, True], [1.5, True]]\n",
      "[None, 0, 1, 0]\n"
     ]
    }
   ],
   "source": [
    "g.dijkstra_shortest_path(0)"
   ]
  },
  {
   "cell_type": "code",
   "execution_count": 7,
   "metadata": {},
   "outputs": [],
   "source": [
    "g = Graph(7)\n",
    "g.build_digraph(0,1,1)\n",
    "g.build_digraph(1,2,1)\n",
    "g.build_digraph(1,4,0.5)\n",
    "g.build_digraph(5,1,0.5)\n",
    "g.build_digraph(3,5,0.1)\n",
    "g.build_digraph(3,2,1)\n",
    "g.build_digraph(4,3,0.2)\n",
    "g.build_digraph(6,3,1)\n",
    "g.build_digraph(0,3,2)\n",
    "g.build_digraph(2,5,0.5)"
   ]
  },
  {
   "cell_type": "code",
   "execution_count": 8,
   "metadata": {},
   "outputs": [
    {
     "name": "stdout",
     "output_type": "stream",
     "text": [
      "[[0, False], [inf, False], [inf, False], [inf, False], [inf, False], [inf, False], [inf, False]]\n",
      "{(1, 1), (3, 2)} 0\n",
      "0 1 1 inf\n",
      "0 2 3 inf\n",
      "[[0, True], [1, False], [inf, False], [2, False], [inf, False], [inf, False], [inf, False]]\n",
      "{(4, 0.5), (2, 1)} 1\n",
      "1 0.5 4 inf\n",
      "1 1 2 inf\n",
      "[[0, True], [1, True], [2, False], [2, False], [1.5, False], [inf, False], [inf, False]]\n",
      "{(3, 0.2)} 4\n",
      "1.5 0.2 3 2\n",
      "[[0, True], [1, True], [2, False], [1.7, False], [1.5, True], [inf, False], [inf, False]]\n",
      "{(5, 0.1), (2, 1)} 3\n",
      "1.7 0.1 5 inf\n",
      "1.7 1 2 2\n",
      "[[0, True], [1, True], [2, False], [1.7, True], [1.5, True], [1.8, False], [inf, False]]\n",
      "{(1, 0.5)} 5\n",
      "1.8 0.5 1 1\n",
      "[[0, True], [1, True], [2, False], [1.7, True], [1.5, True], [1.8, True], [inf, False]]\n",
      "{(5, 0.5)} 2\n",
      "2 0.5 5 1.8\n",
      "[[0, True], [1, True], [2, True], [1.7, True], [1.5, True], [1.8, True], [inf, False]]\n",
      "{(3, 1)} 6\n",
      "inf 1 3 1.7\n",
      "[[0, True], [1, True], [2, True], [1.7, True], [1.5, True], [1.8, True], [inf, True]]\n",
      "[None, 0, 1, 4, 1, 3, 0]\n"
     ]
    }
   ],
   "source": [
    "g.dijkstra_shortest_path(0)"
   ]
  },
  {
   "cell_type": "code",
   "execution_count": 5,
   "metadata": {},
   "outputs": [
    {
     "name": "stdout",
     "output_type": "stream",
     "text": [
      "[{(1, 1), (3, 2)}, {(2, 1)}, {(4, 0.5), (5, 0.5)}, {(5, 0.1), (2, 1)}, {(3, 0.2)}, {(1, 0.5)}, {(3, 1)}]\n"
     ]
    }
   ],
   "source": [
    "g.print_graph()"
   ]
  },
  {
   "cell_type": "code",
   "execution_count": null,
   "metadata": {},
   "outputs": [],
   "source": []
  }
 ],
 "metadata": {
  "kernelspec": {
   "display_name": "algorithms",
   "language": "python",
   "name": "python3"
  },
  "language_info": {
   "codemirror_mode": {
    "name": "ipython",
    "version": 3
   },
   "file_extension": ".py",
   "mimetype": "text/x-python",
   "name": "python",
   "nbconvert_exporter": "python",
   "pygments_lexer": "ipython3",
   "version": "3.12.3"
  }
 },
 "nbformat": 4,
 "nbformat_minor": 2
}
