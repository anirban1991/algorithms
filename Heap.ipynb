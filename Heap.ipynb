{
 "cells": [
  {
   "cell_type": "code",
   "execution_count": 15,
   "id": "ac37d385",
   "metadata": {},
   "outputs": [],
   "source": [
    "new_array = [2,3,7,4,5,9,11,1,8]"
   ]
  },
  {
   "cell_type": "code",
   "execution_count": 163,
   "id": "f6ac90dd",
   "metadata": {},
   "outputs": [],
   "source": [
    "def bubble_up(arr, index):\n",
    "    if index==0:\n",
    "        return\n",
    "    else:\n",
    "        if arr[index//2] <= arr[index]:\n",
    "            return\n",
    "        else:\n",
    "            arr[index//2], arr[index] = swap(arr[index//2],arr[index])\n",
    "            return bubble_up(arr, index//2)\n",
    "            \n",
    "            \n",
    "def swap(elem_a, elem_b):\n",
    "    return elem_b, elem_a"
   ]
  },
  {
   "cell_type": "code",
   "execution_count": 17,
   "id": "4c41cf70",
   "metadata": {},
   "outputs": [
    {
     "name": "stdout",
     "output_type": "stream",
     "text": [
      "[1, 2, 7, 3, 5, 9, 11, 4, 8]\n"
     ]
    }
   ],
   "source": [
    "bubble_up(new_array,7)\n",
    "print(new_array)"
   ]
  },
  {
   "cell_type": "code",
   "execution_count": 138,
   "id": "f27b7536",
   "metadata": {},
   "outputs": [],
   "source": [
    "another_array = [15,2,3,9,11,5,6,12,19]"
   ]
  },
  {
   "cell_type": "code",
   "execution_count": 164,
   "id": "854e363d",
   "metadata": {},
   "outputs": [],
   "source": [
    "def bubble_down(arr, index):\n",
    "    left_i = 2*index+1\n",
    "    right_i= 2*index+2\n",
    "    if left_i>len(arr)-1:\n",
    "        return\n",
    "    elif left_i<=len(arr)-1 and right_i>len(arr)-1:\n",
    "        if (arr[left_i] >= arr[index]):\n",
    "            return\n",
    "        else:\n",
    "            arr[left_i], arr[index] = swap(arr[left_i],arr[index])\n",
    "            return bubble_down(arr, left_i)\n",
    "    else:\n",
    "        if (arr[left_i] >= arr[index]) and (arr[right_i] >= arr[index]) :\n",
    "            return\n",
    "        else:\n",
    "            if arr[left_i]>=arr[right_i]:\n",
    "                arr[right_i], arr[index] = swap(arr[right_i],arr[index])\n",
    "                return bubble_down(arr, right_i)\n",
    "            else:\n",
    "                arr[left_i], arr[index] = swap(arr[left_i],arr[index])\n",
    "                return bubble_down(arr, left_i)\n",
    "            \n",
    "    \n",
    "def swap(elem_a, elem_b):\n",
    "    return elem_b, elem_a"
   ]
  },
  {
   "cell_type": "code",
   "execution_count": 142,
   "id": "7eadb498",
   "metadata": {},
   "outputs": [
    {
     "name": "stdout",
     "output_type": "stream",
     "text": [
      "[2, 9, 3, 12, 11, 5, 6, 15, 19]\n"
     ]
    }
   ],
   "source": [
    "bubble_down(another_array,0)\n",
    "print(another_array)"
   ]
  },
  {
   "cell_type": "code",
   "execution_count": 219,
   "id": "c2f2cb38",
   "metadata": {},
   "outputs": [],
   "source": [
    "def insert_heap(arr,elem):\n",
    "    arr.append(elem)\n",
    "    bubble_up(arr,len(arr)-1)\n",
    "    return arr\n",
    "    \n",
    "def delete_heap(arr, index):\n",
    "    n = len(arr)\n",
    "    arr[n-1],arr[index]= swap(arr[n-1],arr[index])\n",
    "    new_arr = arr[0:n-1]\n",
    "    if len(new_arr)>1:\n",
    "        if new_arr[index]<new_arr[index//2]:\n",
    "            bubble_up(new_arr, index)       \n",
    "        elif new_arr[index]>new_arr[2*index+1] or new_arr[index]>new_arr[2*index+2]:\n",
    "            bubble_down(new_arr,index)\n",
    "    arr = new_arr\n",
    "    return arr\n",
    "    \n",
    "        \n",
    " "
   ]
  },
  {
   "cell_type": "code",
   "execution_count": 143,
   "id": "0ecd935f",
   "metadata": {},
   "outputs": [
    {
     "name": "stdout",
     "output_type": "stream",
     "text": [
      "[1, 99, 2, 110]\n"
     ]
    }
   ],
   "source": [
    "test_array = [1,1,2,99,110]\n",
    "updated_array = delete_heap(test_array,0)\n",
    "print(updated_array)"
   ]
  },
  {
   "cell_type": "code",
   "execution_count": 166,
   "id": "09725b1e",
   "metadata": {},
   "outputs": [],
   "source": [
    "def heapify(arr):\n",
    "    n = len(arr)//2\n",
    "    for i in range(n,-1,-1):\n",
    "        bubble_down(arr,i)\n",
    "    return arr"
   ]
  },
  {
   "cell_type": "code",
   "execution_count": 156,
   "id": "3dad95a3",
   "metadata": {},
   "outputs": [
    {
     "name": "stdout",
     "output_type": "stream",
     "text": [
      "[1, 1, 2, 2, 6, 9, 15, 7, 4]\n"
     ]
    }
   ],
   "source": [
    "random_array = [2,7,1,4,6,9,15,2,1]\n",
    "heap_array = heapify(random_array)\n",
    "print(heap_array)"
   ]
  },
  {
   "cell_type": "code",
   "execution_count": 220,
   "id": "4bf42d18",
   "metadata": {},
   "outputs": [],
   "source": [
    "# write heap sort\n",
    "def heap_sort(arr):\n",
    "    result = []\n",
    "    i=0\n",
    "    heapify(arr)\n",
    "    for i in range(len(arr)):\n",
    "        result.append(arr[0])\n",
    "        arr = delete_heap(arr,0)\n",
    "        i=i+1\n",
    "    return result"
   ]
  },
  {
   "cell_type": "code",
   "execution_count": 221,
   "id": "2e8ef1b1",
   "metadata": {},
   "outputs": [
    {
     "name": "stdout",
     "output_type": "stream",
     "text": [
      "[1, 2, 3, 7, 12, 23, 56, 98]\n"
     ]
    }
   ],
   "source": [
    "test_array2 = [56,3,2,12,7,23,1,98]\n",
    "out = heap_sort(test_array2)\n",
    "print(out)"
   ]
  },
  {
   "cell_type": "code",
   "execution_count": null,
   "id": "be8d5c28",
   "metadata": {},
   "outputs": [],
   "source": []
  }
 ],
 "metadata": {
  "kernelspec": {
   "display_name": "Python 3 (ipykernel)",
   "language": "python",
   "name": "python3"
  },
  "language_info": {
   "codemirror_mode": {
    "name": "ipython",
    "version": 3
   },
   "file_extension": ".py",
   "mimetype": "text/x-python",
   "name": "python",
   "nbconvert_exporter": "python",
   "pygments_lexer": "ipython3",
   "version": "3.9.12"
  }
 },
 "nbformat": 4,
 "nbformat_minor": 5
}
