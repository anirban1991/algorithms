{
 "cells": [
  {
   "cell_type": "code",
   "execution_count": 96,
   "id": "58430533",
   "metadata": {},
   "outputs": [],
   "source": [
    "input_array = [32,2,3,45,12,98,76]\n",
    "input_array2 = [324,0.2,32,5,121,8,76]"
   ]
  },
  {
   "cell_type": "code",
   "execution_count": 97,
   "id": "76071006",
   "metadata": {},
   "outputs": [],
   "source": [
    "def merge_sort(input_arr, left, right):\n",
    "    mid = (left + right)//2\n",
    "    if left >= right:\n",
    "        return\n",
    "    elif left + 1 == right:\n",
    "        if input_arr[left]>input_arr[right]:\n",
    "            input_arr[left], input_arr[right] = swap (input_arr,left, right)\n",
    "    else:\n",
    "        merge_sort(input_arr, left, mid)\n",
    "        merge_sort(input_arr, mid+1, right)\n",
    "        merge(input_arr, left, mid, right)\n",
    "#     print(input_arr)\n",
    "        \n",
    "        \n",
    "def swap(arr, left_elem, right_elem):\n",
    "    return (arr[right_elem],arr[left_elem])\n",
    "\n",
    "def merge(arr, left, mid, right):\n",
    "    temp = []\n",
    "    i = left\n",
    "    j = mid+1\n",
    "#     print(arr,left, mid, right)\n",
    "    while i<= mid and j <= right:\n",
    "        if arr[i] < arr[j]:\n",
    "            temp.append(arr[i])\n",
    "            i = i+1\n",
    "        else:\n",
    "            temp.append(arr[j])\n",
    "            j = j+1\n",
    "            \n",
    "    if i <= mid:\n",
    "        temp.extend(arr[i:mid+1])\n",
    "    if j <= right:\n",
    "        temp.extend(arr[j:right+1])\n",
    "    k=0    \n",
    "    while k < len(temp):\n",
    "        arr[left]=temp[k] \n",
    "        k= k+1\n",
    "        left = left + 1\n",
    "        \n",
    "#     print(arr)\n",
    "    "
   ]
  },
  {
   "cell_type": "code",
   "execution_count": 98,
   "id": "d7b88d9f",
   "metadata": {},
   "outputs": [
    {
     "name": "stdout",
     "output_type": "stream",
     "text": [
      "[0.2, 5, 8, 32, 76, 121, 324]\n"
     ]
    }
   ],
   "source": [
    "merge_sort(input_array2,0,6)\n",
    "print(input_array2)"
   ]
  },
  {
   "cell_type": "code",
   "execution_count": null,
   "id": "e1535b09",
   "metadata": {},
   "outputs": [],
   "source": []
  }
 ],
 "metadata": {
  "kernelspec": {
   "display_name": "Python 3 (ipykernel)",
   "language": "python",
   "name": "python3"
  },
  "language_info": {
   "codemirror_mode": {
    "name": "ipython",
    "version": 3
   },
   "file_extension": ".py",
   "mimetype": "text/x-python",
   "name": "python",
   "nbconvert_exporter": "python",
   "pygments_lexer": "ipython3",
   "version": "3.9.12"
  }
 },
 "nbformat": 4,
 "nbformat_minor": 5
}
