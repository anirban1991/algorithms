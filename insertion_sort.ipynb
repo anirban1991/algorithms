{
 "cells": [
  {
   "cell_type": "code",
   "execution_count": 107,
   "id": "6aac43f3",
   "metadata": {},
   "outputs": [],
   "source": [
    "input_array = [15,23,1,2,98,32,23,21]"
   ]
  },
  {
   "cell_type": "code",
   "execution_count": 108,
   "id": "cec4c751",
   "metadata": {},
   "outputs": [],
   "source": [
    "# Not actual insertion sort\n",
    "\n",
    "def insertion_sort(input_arr):\n",
    "    start = 0\n",
    "    end = len(input_arr)\n",
    "    while start < end:\n",
    "        if start == 0:\n",
    "            start = start+1\n",
    "        elif input_arr[start] >= input_arr[start-1]:\n",
    "            start = start+1\n",
    "        else:\n",
    "            expand=[]\n",
    "            expand = insert(input_arr[start],input_arr[0:start])\n",
    "            expand.extend(input_arr[start+1:end+1])\n",
    "            input_arr = expand\n",
    "            start = start+1\n",
    "    return input_arr\n",
    "            \n",
    "def insert(elem, insert_arr):\n",
    "    i = 0\n",
    "    expand_arr = []\n",
    "    while i< len(insert_arr):\n",
    "        if elem <insert_arr[i]:\n",
    "            expand_arr.append(elem)\n",
    "            expand_arr.extend(insert_arr[i:])\n",
    "            break\n",
    "        else:\n",
    "            expand_arr.append(insert_arr[i])\n",
    "            i= i+1\n",
    "    return expand_arr\n",
    "            \n",
    "   "
   ]
  },
  {
   "cell_type": "code",
   "execution_count": 109,
   "id": "32eb4647",
   "metadata": {},
   "outputs": [
    {
     "name": "stdout",
     "output_type": "stream",
     "text": [
      "[1, 2, 15, 21, 23, 23, 32, 98]\n",
      "time_taken to run 0.0005869865417480469\n"
     ]
    }
   ],
   "source": [
    "start_time = time.time()\n",
    "output_arr = insertion_sort(input_array)\n",
    "print(output_arr)\n",
    "end_time = time.time()\n",
    "print(\"time_taken to run\",end_time-start_time)"
   ]
  },
  {
   "cell_type": "code",
   "execution_count": 123,
   "id": "d1405aa3",
   "metadata": {},
   "outputs": [],
   "source": [
    "input_array = [15,23,62, 1,2,98,32,23,21]"
   ]
  },
  {
   "cell_type": "code",
   "execution_count": 124,
   "id": "f5f0bcc0",
   "metadata": {},
   "outputs": [],
   "source": [
    "# Actual insertion sort algorithm\n",
    "\n",
    "def insertion_sort_update(input_arr):\n",
    "    for start in range(1,len(input_arr),1):\n",
    "        insert(start,input_arr)\n",
    "        start = start+1\n",
    "    return input_arr\n",
    "            \n",
    "def insert(index, insert_arr):\n",
    "    for i in range(index,0,-1):\n",
    "        if insert_arr[i]< insert_arr[i-1]:\n",
    "            insert_arr[i],insert_arr[i-1] = swap(insert_arr[i],insert_arr[i-1])\n",
    "            i= i+1\n",
    "        else:\n",
    "            break\n",
    "    return\n",
    "            \n",
    "            \n",
    "def swap(elem1,elem2):\n",
    "    return elem2, elem1\n",
    "            \n",
    "   "
   ]
  },
  {
   "cell_type": "code",
   "execution_count": 125,
   "id": "5112dd89",
   "metadata": {},
   "outputs": [
    {
     "name": "stdout",
     "output_type": "stream",
     "text": [
      "[1, 2, 15, 21, 23, 23, 32, 62, 98]\n",
      "time_taken to run 0.0006277561187744141\n"
     ]
    }
   ],
   "source": [
    "import time\n",
    "start_time = time.time()\n",
    "output_arr = insertion_sort_update(input_array)\n",
    "print(output_arr)\n",
    "end_time = time.time()\n",
    "print(\"time_taken to run\",end_time-start_time)"
   ]
  },
  {
   "cell_type": "code",
   "execution_count": null,
   "id": "0cff2571",
   "metadata": {},
   "outputs": [],
   "source": [
    "0.0008327960968017578\n",
    "0.0002319812774658203\n",
    "0.0009229183197021484"
   ]
  }
 ],
 "metadata": {
  "kernelspec": {
   "display_name": "Python 3 (ipykernel)",
   "language": "python",
   "name": "python3"
  },
  "language_info": {
   "codemirror_mode": {
    "name": "ipython",
    "version": 3
   },
   "file_extension": ".py",
   "mimetype": "text/x-python",
   "name": "python",
   "nbconvert_exporter": "python",
   "pygments_lexer": "ipython3",
   "version": "3.9.12"
  }
 },
 "nbformat": 4,
 "nbformat_minor": 5
}
