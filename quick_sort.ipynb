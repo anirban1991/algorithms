{
 "cells": [
  {
   "cell_type": "code",
   "execution_count": 112,
   "id": "deafed5e",
   "metadata": {},
   "outputs": [],
   "source": [
    "from random import randrange"
   ]
  },
  {
   "cell_type": "code",
   "execution_count": 123,
   "id": "7ece549e",
   "metadata": {},
   "outputs": [],
   "source": [
    "# Using last element as pivot\n",
    "def quick_sort(arr, start, end):\n",
    "    if start < end:\n",
    "        length = (end - start)+1\n",
    "        pivot = end\n",
    "#         pivot = randrange(start, end)\n",
    "#         print (start, end, pivot)\n",
    "    #     print(arr)\n",
    "    #     print(arr,start, end)\n",
    "        if length <= 2:\n",
    "            if arr[start] > arr[end]:\n",
    "#                 print(start, end, arr)\n",
    "                arr[start], arr[end] = arr[end], arr[start]\n",
    "#                 print(\"hi3\")\n",
    "#                 print(start, end, arr)\n",
    "                return\n",
    "            else:\n",
    "                return\n",
    "        else:        \n",
    "            p = partition(arr, pivot)\n",
    "#             print(\"pivot\", p)\n",
    "#             print(\"start\", start)\n",
    "#             print(\"p-1\", p-1)\n",
    "            quick_sort(arr,start, p-1)\n",
    "#             print(\"hi1\")\n",
    "#             print(\"end\", end)\n",
    "#             print(\"p+1\", p+1)\n",
    "            quick_sort(arr, p+1, end)\n",
    "#             print(\"hi2\")\n",
    "        return\n",
    "    else:\n",
    "        return\n",
    "\n",
    "    \n",
    "    \n",
    "def partition(arr, pivot):\n",
    "    i = -1\n",
    "    j = 0\n",
    "#     print(\"Before partition\", arr,pivot)\n",
    "    while (j<pivot):\n",
    "#         print(arr,j,i)\n",
    "        if arr[j]<arr[pivot]:\n",
    "            arr[i+1], arr[j] = arr[j], arr[i+1]\n",
    "            i = i+1\n",
    "            j= j+1\n",
    "        else:\n",
    "            j=j+1\n",
    "    if i+1 !=j:\n",
    "        arr[i+1], arr[pivot] = arr[pivot], arr[i+1]\n",
    "#     print(\"After partition\", arr, i+1,j)\n",
    "    return i+1"
   ]
  },
  {
   "cell_type": "code",
   "execution_count": 124,
   "id": "241d0a40",
   "metadata": {},
   "outputs": [
    {
     "name": "stdout",
     "output_type": "stream",
     "text": [
      "[1, 2, 4, 5, 23, 65, 88]\n"
     ]
    }
   ],
   "source": [
    "new_array = [88,2,65,4, 1, 23,5]\n",
    "quick_sort(new_array,0,6)\n",
    "print(new_array)"
   ]
  },
  {
   "cell_type": "code",
   "execution_count": null,
   "id": "2173e52d",
   "metadata": {},
   "outputs": [],
   "source": [
    "# Write the randomized quick sort variant"
   ]
  },
  {
   "cell_type": "code",
   "execution_count": null,
   "id": "e31bb852",
   "metadata": {},
   "outputs": [],
   "source": [
    "# Write the quick select algorithm"
   ]
  }
 ],
 "metadata": {
  "kernelspec": {
   "display_name": "Python 3 (ipykernel)",
   "language": "python",
   "name": "python3"
  },
  "language_info": {
   "codemirror_mode": {
    "name": "ipython",
    "version": 3
   },
   "file_extension": ".py",
   "mimetype": "text/x-python",
   "name": "python",
   "nbconvert_exporter": "python",
   "pygments_lexer": "ipython3",
   "version": "3.9.12"
  }
 },
 "nbformat": 4,
 "nbformat_minor": 5
}
