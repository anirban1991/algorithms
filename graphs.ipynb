{
 "cells": [
  {
   "cell_type": "code",
   "execution_count": 58,
   "id": "12bd6687",
   "metadata": {},
   "outputs": [],
   "source": [
    "# class directed_graph:\n",
    "#     def __init__(self,n):\n",
    "#         self.V = n+1\n",
    "#         self.adj_list = [list() for i in range(self.V)]\n",
    "        \n",
    "#     def add_node(self, start, end):\n",
    "#         print(self.adj_list)\n",
    "#         self.adj_list[start].append(end)\n",
    "#         self.adj_list[end].append(start)\n",
    "#         return\n",
    "        \n",
    "#     def print_graph(self):\n",
    "#         i=0\n",
    "#         for i in range(self.V):\n",
    "#             print (i, self.adj_list[i])\n"
   ]
  },
  {
   "cell_type": "code",
   "execution_count": 61,
   "id": "968425ce",
   "metadata": {},
   "outputs": [
    {
     "name": "stdout",
     "output_type": "stream",
     "text": [
      "[[], [], [], [], [], []]\n",
      "[[], [3], [], [1], [], []]\n",
      "[[], [3], [4], [1], [2], []]\n",
      "[[], [3, 5], [4], [1], [2], [1]]\n",
      "[[], [3, 5], [4], [1, 4], [2, 3], [1]]\n"
     ]
    }
   ],
   "source": [
    "# d = directed_graph(5)\n",
    "# d.add_node(1,3)\n",
    "# d.add_node(2,4)\n",
    "# d.add_node(1,5)\n",
    "# d.add_node(3,4)\n",
    "# d.add_node(4,1)"
   ]
  },
  {
   "cell_type": "code",
   "execution_count": 62,
   "id": "a5870a41",
   "metadata": {},
   "outputs": [
    {
     "name": "stdout",
     "output_type": "stream",
     "text": [
      "0 []\n",
      "1 [3, 5, 4]\n",
      "2 [4]\n",
      "3 [1, 4]\n",
      "4 [2, 3, 1]\n",
      "5 [1]\n"
     ]
    }
   ],
   "source": [
    "# d.print_graph()"
   ]
  },
  {
   "cell_type": "code",
   "execution_count": 266,
   "id": "c6412c80",
   "metadata": {},
   "outputs": [],
   "source": [
    "from collections import deque\n",
    "class AdjNode:\n",
    "    def __init__(self, value):\n",
    "        self.vertex = value\n",
    "        self.next = None\n",
    "\n",
    "\n",
    "class Graph:\n",
    "    def __init__(self, num):\n",
    "        self.V = num+1\n",
    "        self.graph = [None] * self.V\n",
    "\n",
    "    # Add edges\n",
    "    def add_edge(self, s, d):\n",
    "        node = AdjNode(d)\n",
    "        node.next = self.graph[s]\n",
    "        self.graph[s] = node\n",
    "\n",
    "        node = AdjNode(s)\n",
    "        node.next = self.graph[d]\n",
    "        self.graph[d] = node\n",
    "\n",
    "    # Print the graph\n",
    "    def print_agraph(self):\n",
    "        for i in range(self.V):\n",
    "            print(\"Vertex \" + str(i) + \":\", end=\"\")\n",
    "            temp = self.graph[i]\n",
    "            while temp:\n",
    "                print(\" -> {}\".format(temp.vertex), end=\"\")\n",
    "                temp = temp.next\n",
    "            print(\" \\n\")\n",
    "            \n",
    "    def bfs_iterative(self, source):\n",
    "        Q = deque()\n",
    "        visited = []\n",
    "#         depth = []\n",
    "        Q.append(source)\n",
    "        visited.append(source)\n",
    "        while Q:\n",
    "            u = Q.popleft()\n",
    "#             print(\"U\",u)\n",
    "            temp = self.graph[u]\n",
    "            \n",
    "            while temp:\n",
    "                if temp.vertex not in visited:\n",
    "                    Q.append(temp.vertex)\n",
    "                    visited.append(temp.vertex)\n",
    "#                     print(temp.vertex)\n",
    "                \n",
    "                \n",
    "                temp = temp.next\n",
    "#             depth = depth +1\n",
    "#             print(\"depth\",depth)\n",
    "        return (visited)\n",
    "\n",
    "    def dfs_recursive(self, node, visited):\n",
    "        if node in visited:\n",
    "            return\n",
    "        if node not in visited:\n",
    "            visited.append(node)\n",
    "            temp = self.graph[node]\n",
    "            while temp:\n",
    "                self.dfs_recursive(temp.vertex, visited)\n",
    "                temp = temp.next\n",
    "            return visited\n",
    "    \n",
    "# Try to write this by yourself\n",
    "\n",
    "#     def dfs_iterative(self, source):\n",
    "#         stack = []\n",
    "#         visited1 = []\n",
    "#         stack.append(source)\n",
    "        \n",
    "        \n",
    "#         while stack:\n",
    "            \n",
    "#             u = stack.pop()\n",
    "# #             visited1.append(u)\n",
    "#             print(\"U\",u)\n",
    "#             temp = self.graph[u]\n",
    "            \n",
    "#             while temp:\n",
    "\n",
    "#                 if temp.vertex not in visited1:\n",
    "#                     stack.append(temp.vertex)\n",
    "#                     print(temp.vertex)\n",
    "#                     visited1.append(u)    \n",
    "#                 temp = temp.next\n",
    "#         return (visited1)\n",
    "        \n",
    "        \n",
    "class dfs:\n",
    "    def __init__(self):\n",
    "        "
   ]
  },
  {
   "cell_type": "code",
   "execution_count": 267,
   "id": "a0a5f10f",
   "metadata": {},
   "outputs": [
    {
     "name": "stdout",
     "output_type": "stream",
     "text": [
      "Vertex 0: \n",
      "\n",
      "Vertex 1: -> 4 -> 2 \n",
      "\n",
      "Vertex 2: -> 3 -> 1 \n",
      "\n",
      "Vertex 3: -> 5 -> 4 -> 2 \n",
      "\n",
      "Vertex 4: -> 3 -> 1 \n",
      "\n",
      "Vertex 5: -> 3 \n",
      "\n"
     ]
    }
   ],
   "source": [
    "graph = Graph(5)\n",
    "\n",
    "graph.add_edge(1,2)\n",
    "graph.add_edge(1,4)\n",
    "graph.add_edge(2,3)\n",
    "graph.add_edge(3,4)\n",
    "graph.add_edge(3,5)\n",
    "\n",
    "graph.print_agraph()\n"
   ]
  },
  {
   "cell_type": "code",
   "execution_count": 268,
   "id": "abe172b6",
   "metadata": {},
   "outputs": [
    {
     "name": "stdout",
     "output_type": "stream",
     "text": [
      "[1, 4, 2, 3, 5]\n"
     ]
    }
   ],
   "source": [
    "a = graph.bfs_iterative(1)\n",
    "print(a)"
   ]
  },
  {
   "cell_type": "code",
   "execution_count": 269,
   "id": "aad47283",
   "metadata": {},
   "outputs": [
    {
     "name": "stdout",
     "output_type": "stream",
     "text": [
      "[1, 4, 3, 5, 2]\n"
     ]
    }
   ],
   "source": [
    "b = graph.dfs_recursive(1,[])\n",
    "print(b)"
   ]
  },
  {
   "cell_type": "code",
   "execution_count": null,
   "id": "31be2259",
   "metadata": {},
   "outputs": [],
   "source": []
  }
 ],
 "metadata": {
  "kernelspec": {
   "display_name": "Python 3 (ipykernel)",
   "language": "python",
   "name": "python3"
  },
  "language_info": {
   "codemirror_mode": {
    "name": "ipython",
    "version": 3
   },
   "file_extension": ".py",
   "mimetype": "text/x-python",
   "name": "python",
   "nbconvert_exporter": "python",
   "pygments_lexer": "ipython3",
   "version": "3.9.12"
  }
 },
 "nbformat": 4,
 "nbformat_minor": 5
}
